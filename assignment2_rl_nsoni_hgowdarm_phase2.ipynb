{
  "cells": [
    {
      "cell_type": "code",
      "execution_count": null,
      "id": "877c3e65",
      "metadata": {
        "colab": {
          "base_uri": "https://localhost:8080/"
        },
        "id": "877c3e65",
        "outputId": "d1b2578b-ef6c-40ba-8ce1-ecc1c47c59c7"
      },
      "outputs": [
        {
          "output_type": "stream",
          "name": "stdout",
          "text": [
            "Collecting swig\n",
            "  Downloading swig-4.3.1.post0-py3-none-manylinux_2_12_x86_64.manylinux2010_x86_64.whl.metadata (3.5 kB)\n",
            "Downloading swig-4.3.1.post0-py3-none-manylinux_2_12_x86_64.manylinux2010_x86_64.whl (1.9 MB)\n",
            "\u001b[2K   \u001b[90m━━━━━━━━━━━━━━━━━━━━━━━━━━━━━━━━━━━━━━━━\u001b[0m \u001b[32m1.9/1.9 MB\u001b[0m \u001b[31m23.6 MB/s\u001b[0m eta \u001b[36m0:00:00\u001b[0m\n",
            "\u001b[?25hInstalling collected packages: swig\n",
            "Successfully installed swig-4.3.1.post0\n"
          ]
        }
      ],
      "source": [
        "pip install swig"
      ]
    },
    {
      "cell_type": "code",
      "source": [
        "pip install \"gymnasium[box2d]\""
      ],
      "metadata": {
        "colab": {
          "base_uri": "https://localhost:8080/"
        },
        "id": "jvpY6RbrRGUR",
        "outputId": "95f8820d-597f-4363-8445-3e065b64e4d5"
      },
      "id": "jvpY6RbrRGUR",
      "execution_count": null,
      "outputs": [
        {
          "output_type": "stream",
          "name": "stdout",
          "text": [
            "Requirement already satisfied: gymnasium[box2d] in /usr/local/lib/python3.12/dist-packages (1.2.1)\n",
            "Requirement already satisfied: numpy>=1.21.0 in /usr/local/lib/python3.12/dist-packages (from gymnasium[box2d]) (2.0.2)\n",
            "Requirement already satisfied: cloudpickle>=1.2.0 in /usr/local/lib/python3.12/dist-packages (from gymnasium[box2d]) (3.1.1)\n",
            "Requirement already satisfied: typing-extensions>=4.3.0 in /usr/local/lib/python3.12/dist-packages (from gymnasium[box2d]) (4.15.0)\n",
            "Requirement already satisfied: farama-notifications>=0.0.1 in /usr/local/lib/python3.12/dist-packages (from gymnasium[box2d]) (0.0.4)\n",
            "Collecting box2d-py==2.3.5 (from gymnasium[box2d])\n",
            "  Downloading box2d-py-2.3.5.tar.gz (374 kB)\n",
            "\u001b[?25l     \u001b[90m━━━━━━━━━━━━━━━━━━━━━━━━━━━━━━━━━━━━━━━━\u001b[0m \u001b[32m0.0/374.4 kB\u001b[0m \u001b[31m?\u001b[0m eta \u001b[36m-:--:--\u001b[0m\r\u001b[2K     \u001b[91m━━━━━━━━━━━━━━━━━━━━━━━━━━━━━━━━━\u001b[0m\u001b[90m╺\u001b[0m\u001b[90m━━━━━\u001b[0m \u001b[32m317.4/374.4 kB\u001b[0m \u001b[31m9.8 MB/s\u001b[0m eta \u001b[36m0:00:01\u001b[0m\r\u001b[2K     \u001b[90m━━━━━━━━━━━━━━━━━━━━━━━━━━━━━━━━━━━━━━━\u001b[0m \u001b[32m374.4/374.4 kB\u001b[0m \u001b[31m7.2 MB/s\u001b[0m eta \u001b[36m0:00:00\u001b[0m\n",
            "\u001b[?25h  Preparing metadata (setup.py) ... \u001b[?25l\u001b[?25hdone\n",
            "Requirement already satisfied: pygame>=2.1.3 in /usr/local/lib/python3.12/dist-packages (from gymnasium[box2d]) (2.6.1)\n",
            "Requirement already satisfied: swig==4.* in /usr/local/lib/python3.12/dist-packages (from gymnasium[box2d]) (4.3.1.post0)\n",
            "Building wheels for collected packages: box2d-py\n",
            "  Building wheel for box2d-py (setup.py) ... \u001b[?25l\u001b[?25hdone\n",
            "  Created wheel for box2d-py: filename=box2d_py-2.3.5-cp312-cp312-linux_x86_64.whl size=2409532 sha256=82a7a8f71b71315f928671ed6da7770ac2f53e42268e3f3efd48d5a914fdf253\n",
            "  Stored in directory: /root/.cache/pip/wheels/2a/e9/60/774da0bcd07f7dc7761a8590fa2d065e4069568e78dcdc3318\n",
            "Successfully built box2d-py\n",
            "Installing collected packages: box2d-py\n",
            "Successfully installed box2d-py-2.3.5\n"
          ]
        }
      ]
    },
    {
      "cell_type": "code",
      "execution_count": null,
      "id": "520efc9d",
      "metadata": {
        "id": "520efc9d"
      },
      "outputs": [],
      "source": [
        "import numpy as np\n",
        "import torch\n",
        "import torch.nn as nn\n",
        "import torch.optim as optim\n",
        "import gymnasium as gym\n",
        "from gymnasium import spaces\n",
        "from collections import deque\n",
        "import random\n",
        "import matplotlib.pyplot as plt\n",
        "import os\n",
        "import pickle\n",
        "from datetime import datetime"
      ]
    },
    {
      "cell_type": "markdown",
      "id": "431032b4",
      "metadata": {
        "id": "431032b4"
      },
      "source": [
        "# Deterministic Environment from Assignment 1"
      ]
    },
    {
      "cell_type": "code",
      "execution_count": null,
      "id": "f1fb6d01",
      "metadata": {
        "id": "f1fb6d01"
      },
      "outputs": [],
      "source": [
        "class DeterministicWarehouseRobotEnv(gym.Env):\n",
        "    metadata = {\"render_modes\": [\"human\", \"rgb_array\"]}\n",
        "\n",
        "    def __init__(self, stochastic=False, max_steps=100):\n",
        "        super(DeterministicWarehouseRobotEnv, self).__init__()\n",
        "        self.grid_size = 6\n",
        "        self.obstacles = [(1,1), (2,3), (4,4)]\n",
        "        self.pickup_loc = (0,5)\n",
        "        self.dropoff_loc = (5,0)\n",
        "\n",
        "        self.action_space = spaces.Discrete(6)\n",
        "        self.observation_space = spaces.MultiDiscrete([self.grid_size, self.grid_size, 2])\n",
        "\n",
        "        self.max_steps = max_steps\n",
        "\n",
        "    def reset(self, seed=None, options=None):\n",
        "        super().reset(seed=seed)\n",
        "        self.agent_pos = [0, 0]\n",
        "        self.carrying = 0\n",
        "        self.current_step = 0\n",
        "        self.terminated = False\n",
        "        self.truncated = False\n",
        "        return self._get_obs(), {}\n",
        "\n",
        "    def step(self, action):\n",
        "        self.current_step += 1\n",
        "        reward = -1\n",
        "        new_pos = list(self.agent_pos)\n",
        "\n",
        "        if action == 0:      # Up\n",
        "            new_pos[0] -= 1\n",
        "        elif action == 1:    # Down\n",
        "            new_pos[0] += 1\n",
        "        elif action == 2:    # Left\n",
        "            new_pos[1] -= 1\n",
        "        elif action == 3:    # Right\n",
        "            new_pos[1] += 1\n",
        "        elif action == 4:    # Pick-up\n",
        "            if tuple(self.agent_pos) == self.pickup_loc and self.carrying == 0:\n",
        "                self.carrying = 1\n",
        "                reward = 25\n",
        "            new_pos = self.agent_pos\n",
        "        elif action == 5:    # Drop-off\n",
        "            if tuple(self.agent_pos) == self.dropoff_loc and self.carrying == 1:\n",
        "                reward = 100\n",
        "                self.terminated = True\n",
        "            new_pos = self.agent_pos\n",
        "\n",
        "        # Boundary & obstacle check\n",
        "        if 0 <= new_pos[0] < self.grid_size and 0 <= new_pos[1] < self.grid_size:\n",
        "            if tuple(new_pos) in self.obstacles:\n",
        "                reward -= 20\n",
        "            else:\n",
        "                self.agent_pos = new_pos\n",
        "\n",
        "        if self.current_step >= self.max_steps:\n",
        "            self.truncated = True\n",
        "\n",
        "        return self._get_obs(), reward, self.terminated, self.truncated, {}\n",
        "\n",
        "    def _get_obs(self):\n",
        "        return np.array([self.agent_pos[0], self.agent_pos[1], self.carrying], dtype=np.int32)\n",
        "\n",
        "    def render(self, mode=\"human\"):\n",
        "        import matplotlib.pyplot as plt\n",
        "        fig, ax = plt.subplots()\n",
        "        ax.set_xlim(-0.5, self.grid_size - 0.5)\n",
        "        ax.set_ylim(-0.5, self.grid_size - 0.5)\n",
        "        ax.set_xticks(np.arange(self.grid_size))\n",
        "        ax.set_yticks(np.arange(self.grid_size))\n",
        "        ax.grid(True, which=\"both\", color=\"gray\", linestyle=\"-\", linewidth=0.5)\n",
        "        ax.set_facecolor('#D3D3D3')\n",
        "\n",
        "        # Obstacles\n",
        "        for (x, y) in self.obstacles:\n",
        "            ax.add_patch(plt.Rectangle((y - 0.5, x - 0.5), 1, 1, facecolor='black'))\n",
        "\n",
        "        # Pickup (blue)\n",
        "        ax.add_patch(plt.Rectangle((self.pickup_loc[1] - 0.5, self.pickup_loc[0] - 0.5), 1, 1, facecolor='blue'))\n",
        "\n",
        "        # Drop-off (yellow)\n",
        "        ax.add_patch(plt.Rectangle((self.dropoff_loc[1] - 0.5, self.dropoff_loc[0] - 0.5), 1, 1, facecolor='yellow'))\n",
        "\n",
        "        # Agent\n",
        "        x, y = self.agent_pos\n",
        "        color = 'red' if self.carrying == 0 else 'green'\n",
        "        ax.add_patch(plt.Circle((y, x), 0.3, facecolor=color))\n",
        "\n",
        "        plt.title(f\"Step {self.current_step} - {'Carrying' if self.carrying else 'Not Carrying'}\")\n",
        "        plt.gca().invert_yaxis()\n",
        "\n",
        "        if mode == \"human\":\n",
        "            plt.show()\n",
        "        elif mode == \"rgb_array\":\n",
        "            fig.canvas.draw()\n",
        "            img = np.array(fig.canvas.renderer.buffer_rgba())\n",
        "            plt.close()\n",
        "            return img\n",
        "        plt.close()"
      ]
    },
    {
      "cell_type": "markdown",
      "id": "ff6e06f3",
      "metadata": {
        "id": "ff6e06f3"
      },
      "source": [
        "# DQN Network"
      ]
    },
    {
      "cell_type": "code",
      "execution_count": null,
      "id": "191761af",
      "metadata": {
        "id": "191761af"
      },
      "outputs": [],
      "source": [
        "class DQNNet(nn.Module):\n",
        "    def __init__(self, input_size, output_size):\n",
        "        super(DQNNet, self).__init__()\n",
        "        self.net = nn.Sequential(\n",
        "            nn.Linear(input_size, 128),\n",
        "            nn.ReLU(),\n",
        "            nn.Linear(128, 64),\n",
        "            nn.ReLU(),\n",
        "            nn.Linear(64, output_size)\n",
        "        )\n",
        "\n",
        "    def forward(self, x):\n",
        "        return self.net(x)"
      ]
    },
    {
      "cell_type": "markdown",
      "id": "a81b939c",
      "metadata": {
        "id": "a81b939c"
      },
      "source": [
        "# Replay Buffer"
      ]
    },
    {
      "cell_type": "code",
      "execution_count": null,
      "id": "273c9b89",
      "metadata": {
        "id": "273c9b89"
      },
      "outputs": [],
      "source": [
        "class ReplayBuffer:\n",
        "    def __init__(self, capacity):\n",
        "        self.buffer = deque(maxlen=capacity)\n",
        "\n",
        "    def push(self, state, action, reward, next_state, done):\n",
        "        self.buffer.append((state, action, reward, next_state, done))\n",
        "\n",
        "    def sample(self, batch_size):\n",
        "        return random.sample(self.buffer, batch_size)\n",
        "\n",
        "    def __len__(self):\n",
        "        return len(self.buffer)"
      ]
    },
    {
      "cell_type": "markdown",
      "id": "fcce9f3a",
      "metadata": {
        "id": "fcce9f3a"
      },
      "source": [
        "# DQN Agent"
      ]
    },
    {
      "cell_type": "code",
      "execution_count": null,
      "id": "5c15715b",
      "metadata": {
        "id": "5c15715b"
      },
      "outputs": [],
      "source": [
        "class DQNAgent:\n",
        "    def __init__(self, state_dims, action_size,\n",
        "                 lr=1e-3, gamma=0.99, epsilon=1.0,\n",
        "                 epsilon_min=0.01, epsilon_decay=0.995,\n",
        "                 buffer_size=10000, batch_size=64):\n",
        "\n",
        "        self.state_dims = state_dims\n",
        "        self.action_size = action_size\n",
        "        self.gamma = gamma\n",
        "        self.epsilon = epsilon\n",
        "        self.epsilon_min = epsilon_min\n",
        "        self.epsilon_decay = epsilon_decay\n",
        "        self.batch_size = batch_size\n",
        "\n",
        "        self.memory = ReplayBuffer(buffer_size)\n",
        "        self.device = torch.device(\"cuda\" if torch.cuda.is_available() else \"cpu\")\n",
        "\n",
        "        input_size = state_dims\n",
        "        self.model = DQNNet(input_size, action_size).to(self.device)\n",
        "        self.target_model = DQNNet(input_size, action_size).to(self.device)\n",
        "        self.target_model.load_state_dict(self.model.state_dict())\n",
        "        self.optimizer = optim.Adam(self.model.parameters(), lr=lr)\n",
        "        self.criterion = nn.SmoothL1Loss()\n",
        "\n",
        "        self.update_target_every = 1000\n",
        "        self.step_count = 0\n",
        "\n",
        "    def select_action(self, state):\n",
        "        if np.random.rand() <= self.epsilon:\n",
        "            return random.randrange(self.action_size)\n",
        "        state_tensor = torch.FloatTensor(state).flatten().unsqueeze(0).to(self.device)\n",
        "        with torch.no_grad():\n",
        "            q_values = self.model(state_tensor)\n",
        "        return q_values.argmax().item()\n",
        "\n",
        "    def store(self, state, action, reward, next_state, done):\n",
        "        self.memory.push(state, action, reward, next_state, done)\n",
        "\n",
        "    def soft_update(self, tau=0.005):\n",
        "      for target_param, param in zip(self.target_model.parameters(), self.model.parameters()):\n",
        "          target_param.data.copy_(tau * param.data + (1.0 - tau) * target_param.data)\n",
        "\n",
        "    def train_step(self):\n",
        "        if len(self.memory) < self.batch_size:\n",
        "            return None\n",
        "\n",
        "        batch = self.memory.sample(self.batch_size)\n",
        "        states, actions, rewards, next_states, dones = zip(*batch)\n",
        "\n",
        "        states = torch.FloatTensor(np.stack(states)).to(self.device)  # shape: (B, 3)\n",
        "        actions = torch.LongTensor(actions).to(self.device)\n",
        "        rewards = torch.FloatTensor(rewards).to(self.device)\n",
        "        next_states = torch.FloatTensor(np.stack(next_states)).to(self.device)  # shape: (B, 3)\n",
        "        dones = torch.FloatTensor(dones).to(self.device)\n",
        "\n",
        "        current_q = self.model(states).gather(1, actions.unsqueeze(1)).squeeze(1)\n",
        "        next_actions = self.model(next_states).argmax(1).unsqueeze(1)\n",
        "        next_q = self.target_model(next_states).gather(1, next_actions).squeeze(1).detach()\n",
        "        target_q = rewards + (1 - dones) * self.gamma * next_q\n",
        "\n",
        "        loss = self.criterion(current_q, target_q)\n",
        "\n",
        "        self.optimizer.zero_grad()\n",
        "        loss.backward()\n",
        "        self.optimizer.step()\n",
        "\n",
        "        # Update target network\n",
        "        self.step_count += 1\n",
        "        self.soft_update(tau=0.01)\n",
        "\n",
        "        # Decay epsilon\n",
        "        if self.epsilon > self.epsilon_min:\n",
        "            self.epsilon *= self.epsilon_decay\n",
        "\n",
        "        return loss.item()\n",
        "\n",
        "    def save_model(self, path):\n",
        "        torch.save(self.model.state_dict(), path)"
      ]
    },
    {
      "cell_type": "markdown",
      "id": "4b8f160b",
      "metadata": {
        "id": "4b8f160b"
      },
      "source": [
        "# Training Function"
      ]
    },
    {
      "cell_type": "code",
      "execution_count": null,
      "id": "9c001545",
      "metadata": {
        "id": "9c001545"
      },
      "outputs": [],
      "source": [
        "def train_dqn(env, env_name, episodes=1000, max_steps=500):\n",
        "    print(f\"\\n=== Training DQN on {env_name} ===\")\n",
        "    if env_name == \"Warehouse\":\n",
        "        state_dim = 3\n",
        "    else:\n",
        "        state_dim = env.observation_space.shape[0]  # CartPole, LunarLander\n",
        "\n",
        "    agent = DQNAgent(state_dim, env.action_space.n)\n",
        "\n",
        "    rewards_history = []\n",
        "    epsilon_history = []\n",
        "    losses = []\n",
        "\n",
        "    for ep in range(episodes):\n",
        "        state, _ = env.reset()\n",
        "        total_reward = 0\n",
        "        done = False\n",
        "        step = 0\n",
        "\n",
        "        while not done and step < max_steps:\n",
        "            action = agent.select_action(state)\n",
        "            next_state, reward, terminated, truncated, _ = env.step(action)\n",
        "            done = terminated or truncated\n",
        "            agent.store(state.ravel(), action, reward, next_state.ravel(), done)\n",
        "            loss = agent.train_step()\n",
        "            if loss is not None:\n",
        "                losses.append(loss)\n",
        "            state = next_state\n",
        "            total_reward += reward\n",
        "            step += 1\n",
        "\n",
        "        rewards_history.append(total_reward)\n",
        "        epsilon_history.append(agent.epsilon)\n",
        "\n",
        "        if (ep+1) % 100 == 0:\n",
        "            avg_reward = np.mean(rewards_history[-100:])\n",
        "            print(f\"Episode {ep+1}/{episodes} | Avg Reward (last 100): {avg_reward:.2f} | Epsilon: {agent.epsilon:.3f}\")\n",
        "\n",
        "    # Save model\n",
        "    model_path = f\"a2_part_2_dqn_{env_name.lower().replace('-', '')}_TEAMMATE1_TEAMMATE2.pth\"\n",
        "    agent.save_model(model_path)\n",
        "    print(f\"Model saved: {model_path}\")\n",
        "\n",
        "    return rewards_history, epsilon_history, model_path"
      ]
    },
    {
      "cell_type": "markdown",
      "id": "8cb8654c",
      "metadata": {
        "id": "8cb8654c"
      },
      "source": [
        "# Evaluation (Greedy)"
      ]
    },
    {
      "cell_type": "code",
      "execution_count": null,
      "id": "0edeb28e",
      "metadata": {
        "id": "0edeb28e"
      },
      "outputs": [],
      "source": [
        "def evaluate_greedy(env, model_path, state_dims, episodes=5):\n",
        "    device = torch.device(\"cuda\" if torch.cuda.is_available() else \"cpu\")\n",
        "    if hasattr(env.observation_space, \"nvec\"):\n",
        "        input_size = 3\n",
        "    else:\n",
        "        input_size = int(np.prod(state_dims))\n",
        "\n",
        "    model = DQNNet(input_size, env.action_space.n).to(device)\n",
        "    model.load_state_dict(torch.load(model_path, map_location=device))\n",
        "    model.eval()\n",
        "\n",
        "    rewards = []\n",
        "    for ep in range(episodes):\n",
        "        state, _ = env.reset()\n",
        "        done = False\n",
        "        total_reward = 0\n",
        "        while not done:\n",
        "            s = torch.FloatTensor(state).flatten().unsqueeze(0).to(device)\n",
        "            with torch.no_grad():\n",
        "                action = model(s).argmax().item()\n",
        "            next_state, reward, terminated, truncated, _ = env.step(action)\n",
        "            done = terminated or truncated\n",
        "            total_reward += reward\n",
        "            state = next_state\n",
        "        rewards.append(total_reward)\n",
        "        print(f\"Episode {ep+1}: Total Reward = {total_reward}\")\n",
        "\n",
        "    print(f\"\\nAverage Reward over {episodes} eval episodes: {np.mean(rewards):.2f}\")\n",
        "    return rewards"
      ]
    },
    {
      "cell_type": "markdown",
      "id": "7610222a",
      "metadata": {
        "id": "7610222a"
      },
      "source": [
        "# Render and Save video"
      ]
    },
    {
      "cell_type": "code",
      "execution_count": null,
      "id": "3acaa643",
      "metadata": {
        "id": "3acaa643"
      },
      "outputs": [],
      "source": [
        "import imageio\n",
        "from IPython.display import Video, display\n",
        "def render_and_save_video(env, model_path, state_dims, filename=\"warehouse_eval.mp4\", fps=5):\n",
        "    device = torch.device(\"cuda\" if torch.cuda.is_available() else \"cpu\")\n",
        "    if hasattr(env.observation_space, \"nvec\"):\n",
        "        input_size = 3  # your warehouse state vector length\n",
        "    else:\n",
        "        input_size = int(np.prod(state_dims))\n",
        "\n",
        "    # Load model\n",
        "    model = DQNNet(input_size, env.action_space.n).to(device)\n",
        "    model.load_state_dict(torch.load(model_path, map_location=device))\n",
        "    model.eval()\n",
        "\n",
        "    frames = []\n",
        "    state, _ = env.reset()\n",
        "    done = False\n",
        "\n",
        "    while not done:\n",
        "        # Render one frame (use rgb_array mode)\n",
        "        frame = env.render(mode=\"rgb_array\") if callable(getattr(env, \"render\", None)) else None\n",
        "        if frame is not None:\n",
        "            frames.append(frame)\n",
        "\n",
        "        s = torch.FloatTensor(state).flatten().unsqueeze(0).to(device)\n",
        "        with torch.no_grad():\n",
        "            action = model(s).argmax().item()\n",
        "        next_state, reward, terminated, truncated, _ = env.step(action)\n",
        "        done = terminated or truncated\n",
        "        state = next_state\n",
        "\n",
        "    # Save video (use imageio + ffmpeg)\n",
        "    try:\n",
        "        writer = imageio.get_writer(filename, fps=fps, macro_block_size=None)\n",
        "        for f in frames:\n",
        "            arr = np.asarray(f)\n",
        "            if arr.dtype != np.uint8:\n",
        "                arr = (255 * np.clip(arr, 0, 1)).astype(np.uint8)\n",
        "            writer.append_data(arr)\n",
        "        writer.close()\n",
        "        print(f\"✅ Video saved: {filename}\")\n",
        "    except Exception as e:\n",
        "        fallback = filename.rsplit(\".\", 1)[0] + \".gif\"\n",
        "        imageio.mimsave(fallback, frames, fps=fps)\n",
        "        print(f\"Saved as GIF instead ({fallback}) because MP4 failed. Error: {e}\")\n",
        "\n",
        "    # Show video inline\n",
        "    try:\n",
        "        display(Video(filename, embed=True, width=480))\n",
        "    except:\n",
        "        pass\n",
        "\n",
        "    env.close()\n"
      ]
    },
    {
      "cell_type": "markdown",
      "id": "58c43741",
      "metadata": {
        "id": "58c43741"
      },
      "source": [
        "# Training"
      ]
    },
    {
      "cell_type": "code",
      "execution_count": null,
      "id": "7d97fd0d",
      "metadata": {
        "colab": {
          "base_uri": "https://localhost:8080/"
        },
        "id": "7d97fd0d",
        "outputId": "4c75296f-5f5b-4778-d84f-834d84b2f2a8"
      },
      "outputs": [
        {
          "output_type": "stream",
          "name": "stdout",
          "text": [
            "\n",
            "=== Training DQN on Warehouse ===\n",
            "Episode 100/800 | Avg Reward (last 100): -182.62 | Epsilon: 0.010\n",
            "Episode 200/800 | Avg Reward (last 100): -190.50 | Epsilon: 0.010\n",
            "Episode 300/800 | Avg Reward (last 100): -165.68 | Epsilon: 0.010\n",
            "Episode 400/800 | Avg Reward (last 100): 99.51 | Epsilon: 0.010\n",
            "Episode 500/800 | Avg Reward (last 100): 61.72 | Epsilon: 0.010\n",
            "Episode 600/800 | Avg Reward (last 100): 42.69 | Epsilon: 0.010\n",
            "Episode 700/800 | Avg Reward (last 100): 97.16 | Epsilon: 0.010\n",
            "Episode 800/800 | Avg Reward (last 100): 86.88 | Epsilon: 0.010\n",
            "Model saved: a2_part_2_dqn_warehouse_TEAMMATE1_TEAMMATE2.pth\n"
          ]
        }
      ],
      "source": [
        "# 1. Warehouse\n",
        "warehouse_env = DeterministicWarehouseRobotEnv(max_steps=200)\n",
        "warehouse_rewards, warehouse_eps, warehouse_model = train_dqn(\n",
        "    warehouse_env, \"Warehouse\", episodes=800\n",
        ")"
      ]
    },
    {
      "cell_type": "code",
      "execution_count": null,
      "id": "c3b54dee",
      "metadata": {
        "colab": {
          "base_uri": "https://localhost:8080/"
        },
        "id": "c3b54dee",
        "outputId": "bb08880b-43dd-456c-d8f3-f86763851a0e"
      },
      "outputs": [
        {
          "output_type": "stream",
          "name": "stdout",
          "text": [
            "\n",
            "=== Training DQN on CartPole-v1 ===\n",
            "Episode 100/500 | Avg Reward (last 100): 13.98 | Epsilon: 0.010\n",
            "Episode 200/500 | Avg Reward (last 100): 12.04 | Epsilon: 0.010\n",
            "Episode 300/500 | Avg Reward (last 100): 99.49 | Epsilon: 0.010\n",
            "Episode 400/500 | Avg Reward (last 100): 211.10 | Epsilon: 0.010\n",
            "Episode 500/500 | Avg Reward (last 100): 198.53 | Epsilon: 0.010\n",
            "Model saved: a2_part_2_dqn_cartpolev1_TEAMMATE1_TEAMMATE2.pth\n"
          ]
        }
      ],
      "source": [
        "# 2. CartPole\n",
        "cartpole_env = gym.make(\"CartPole-v1\", render_mode=\"rgb_array\")\n",
        "cartpole_rewards, cartpole_eps, cartpole_model = train_dqn(\n",
        "    cartpole_env, \"CartPole-v1\", episodes=500\n",
        ")"
      ]
    },
    {
      "cell_type": "code",
      "execution_count": null,
      "id": "925d1cb6",
      "metadata": {
        "colab": {
          "base_uri": "https://localhost:8080/"
        },
        "id": "925d1cb6",
        "outputId": "30c1c508-dbcd-48cd-bc85-ebf244414aae"
      },
      "outputs": [
        {
          "output_type": "stream",
          "name": "stdout",
          "text": [
            "\n",
            "=== Training DQN on LunarLander-v2 ===\n",
            "Episode 100/800 | Avg Reward (last 100): -86.93 | Epsilon: 0.010\n",
            "Episode 200/800 | Avg Reward (last 100): 50.43 | Epsilon: 0.010\n",
            "Episode 300/800 | Avg Reward (last 100): 117.08 | Epsilon: 0.010\n",
            "Episode 400/800 | Avg Reward (last 100): 172.41 | Epsilon: 0.010\n",
            "Episode 500/800 | Avg Reward (last 100): 84.06 | Epsilon: 0.010\n",
            "Episode 600/800 | Avg Reward (last 100): 216.22 | Epsilon: 0.010\n",
            "Episode 700/800 | Avg Reward (last 100): 243.21 | Epsilon: 0.010\n",
            "Episode 800/800 | Avg Reward (last 100): 237.53 | Epsilon: 0.010\n",
            "Model saved: a2_part_2_dqn_lunarlanderv2_TEAMMATE1_TEAMMATE2.pth\n"
          ]
        }
      ],
      "source": [
        "# 3. LunarLander\n",
        "lander_env = gym.make(\"LunarLander-v2\", render_mode=\"rgb_array\")\n",
        "lander_rewards, lander_eps, lander_model = train_dqn(\n",
        "    lander_env, \"LunarLander-v2\", episodes=800\n",
        ")\n"
      ]
    },
    {
      "cell_type": "code",
      "execution_count": null,
      "id": "c2632a2a",
      "metadata": {
        "colab": {
          "base_uri": "https://localhost:8080/"
        },
        "id": "c2632a2a",
        "outputId": "4b8abc19-b96d-408a-cf58-d0f528c600c8"
      },
      "outputs": [
        {
          "output_type": "stream",
          "name": "stdout",
          "text": [
            "\n",
            "=== Evaluation (Greedy Policy) ===\n",
            "Episode 1: Total Reward = -200\n",
            "Episode 2: Total Reward = -200\n",
            "Episode 3: Total Reward = -200\n",
            "Episode 4: Total Reward = -200\n",
            "Episode 5: Total Reward = -200\n",
            "\n",
            "Average Reward over 5 eval episodes: -200.00\n",
            "Episode 1: Total Reward = 139.0\n",
            "Episode 2: Total Reward = 129.0\n",
            "Episode 3: Total Reward = 198.0\n",
            "Episode 4: Total Reward = 141.0\n",
            "Episode 5: Total Reward = 130.0\n",
            "\n",
            "Average Reward over 5 eval episodes: 147.40\n",
            "Episode 1: Total Reward = 258.184149972611\n",
            "Episode 2: Total Reward = 25.79503780883431\n",
            "Episode 3: Total Reward = 287.6463769103842\n",
            "Episode 4: Total Reward = 271.0297323584044\n",
            "Episode 5: Total Reward = 31.820248904891685\n",
            "\n",
            "Average Reward over 5 eval episodes: 174.90\n",
            "Warehouse Eval (5 eps): [-200, -200, -200, -200, -200] | Avg: -200.00\n",
            "CartPole Eval (5 eps): [139.0, 129.0, 198.0, 141.0, 130.0] | Avg: 147.40\n",
            "LunarLander Eval (5 eps): [np.float64(258.184149972611), np.float64(25.79503780883431), np.float64(287.6463769103842), np.float64(271.0297323584044), np.float64(31.820248904891685)] | Avg: 174.90\n"
          ]
        }
      ],
      "source": [
        "# ------------------- 9. Evaluation -------------------\n",
        "print(\"\\n=== Evaluation (Greedy Policy) ===\")\n",
        "warehouse_eval = evaluate_greedy(warehouse_env, warehouse_model, np.prod(warehouse_env.observation_space.nvec))\n",
        "cartpole_eval = evaluate_greedy(cartpole_env, cartpole_model, cartpole_env.observation_space.shape)\n",
        "lander_eval = evaluate_greedy(lander_env, lander_model, lander_env.observation_space.shape)\n",
        "\n",
        "print(f\"Warehouse Eval (5 eps): {warehouse_eval} | Avg: {np.mean(warehouse_eval):.2f}\")\n",
        "print(f\"CartPole Eval (5 eps): {cartpole_eval} | Avg: {np.mean(cartpole_eval):.2f}\")\n",
        "print(f\"LunarLander Eval (5 eps): {lander_eval} | Avg: {np.mean(lander_eval):.2f}\")"
      ]
    },
    {
      "cell_type": "code",
      "execution_count": null,
      "id": "e1b24e9a",
      "metadata": {
        "colab": {
          "base_uri": "https://localhost:8080/",
          "height": 399
        },
        "id": "e1b24e9a",
        "outputId": "449478d9-66f3-4689-a0cf-45399b8a3d16"
      },
      "outputs": [
        {
          "output_type": "stream",
          "name": "stdout",
          "text": [
            "✅ Video saved: a2_part_2_warehouse_eval_TEAMMATE1_TEAMMATE2.mp4\n"
          ]
        },
        {
          "output_type": "display_data",
          "data": {
            "text/plain": [
              "<IPython.core.display.Video object>"
            ],
            "text/html": [
              "<video controls  width=\"480\" >\n",
              " <source src=\"data:video/mp4;base64,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\" type=\"video/mp4\">\n",
              " Your browser does not support the video tag.\n",
              " </video>"
            ]
          },
          "metadata": {}
        }
      ],
      "source": [
        "# ------------------- 10. Save Video (Warehouse) -------------------\n",
        "render_and_save_video(warehouse_env, warehouse_model, warehouse_env.observation_space.nvec,\n",
        "                        \"a2_part_2_warehouse_eval_TEAMMATE1_TEAMMATE2.mp4\")"
      ]
    },
    {
      "cell_type": "code",
      "execution_count": null,
      "id": "cf2b6626",
      "metadata": {
        "id": "cf2b6626"
      },
      "outputs": [],
      "source": [
        "# ------------------- 11. Plotting -------------------\n",
        "plt.figure(figsize=(15, 10))\n",
        "\n",
        "plt.subplot(2, 3, 1)\n",
        "plt.plot(warehouse_rewards)\n",
        "plt.title(\"Warehouse - Reward per Episode\")\n",
        "plt.xlabel(\"Episode\")\n",
        "plt.ylabel(\"Total Reward\")\n",
        "\n",
        "plt.subplot(2, 3, 2)\n",
        "plt.plot(cartpole_rewards)\n",
        "plt.title(\"CartPole - Reward per Episode\")\n",
        "\n",
        "plt.subplot(2, 3, 3)\n",
        "plt.plot(lander_rewards)\n",
        "plt.title(\"LunarLander - Reward per Episode\")\n",
        "\n",
        "plt.subplot(2, 3, 4)\n",
        "plt.plot(warehouse_eps)\n",
        "plt.title(\"Epsilon Decay (Warehouse)\")\n",
        "\n",
        "plt.subplot(2, 3, 5)\n",
        "plt.plot(cartpole_eps)\n",
        "plt.title(\"Epsilon Decay (CartPole)\")\n",
        "\n",
        "plt.subplot(2, 3, 6)\n",
        "plt.plot(lander_eps)\n",
        "plt.title(\"Epsilon Decay (LunarLander)\")\n",
        "\n",
        "plt.tight_layout()\n",
        "plt.savefig(\"a2_part_2_training_plots_TEAMMATE1_TEAMMATE2.png\")\n",
        "plt.show()"
      ]
    },
    {
      "cell_type": "code",
      "execution_count": null,
      "id": "2b7054a9",
      "metadata": {
        "id": "2b7054a9"
      },
      "outputs": [],
      "source": [
        "# Save rewards for report\n",
        "with open(\"a2_part_2_rewards_TEAMMATE1_TEAMMATE2.pkl\", \"wb\") as f:\n",
        "    pickle.dump({\n",
        "        \"warehouse\": warehouse_rewards,\n",
        "        \"cartpole\": cartpole_rewards,\n",
        "        \"lander\": lander_rewards,\n",
        "        \"eval\": {\"warehouse\": warehouse_eval, \"cartpole\": cartpole_eval, \"lander\": lander_eval}\n",
        "    }, f)"
      ]
    },
    {
      "cell_type": "code",
      "execution_count": null,
      "id": "0331d480",
      "metadata": {
        "id": "0331d480"
      },
      "outputs": [],
      "source": []
    },
    {
      "cell_type": "code",
      "execution_count": null,
      "id": "5a504bf4",
      "metadata": {
        "id": "5a504bf4"
      },
      "outputs": [],
      "source": []
    }
  ],
  "metadata": {
    "kernelspec": {
      "display_name": "venv",
      "language": "python",
      "name": "python3"
    },
    "language_info": {
      "codemirror_mode": {
        "name": "ipython",
        "version": 3
      },
      "file_extension": ".py",
      "mimetype": "text/x-python",
      "name": "python",
      "nbconvert_exporter": "python",
      "pygments_lexer": "ipython3",
      "version": "3.11.11"
    },
    "colab": {
      "provenance": [],
      "toc_visible": true
    }
  },
  "nbformat": 4,
  "nbformat_minor": 5
}